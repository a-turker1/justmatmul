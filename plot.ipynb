{
 "cells": [
  {
   "cell_type": "code",
   "execution_count": null,
   "metadata": {},
   "outputs": [],
   "source": [
    "import pandas as pd\n",
    "import plotly.graph_objs as go"
   ]
  },
  {
   "cell_type": "code",
   "execution_count": null,
   "metadata": {},
   "outputs": [],
   "source": [
    "# Read the CSV file\n",
    "data = pd.read_csv('benchmark.csv')\n",
    "data = data.drop(data.columns[-1], axis=1)\n"
   ]
  },
  {
   "cell_type": "code",
   "execution_count": null,
   "metadata": {},
   "outputs": [],
   "source": [
    "models = data[\"Model\"].values\n",
    "problem_size = data.columns[1:].astype(int)\n",
    "performance = data.iloc[:, 1:].values\n",
    "\n",
    "# Create traces for each model\n",
    "traces = []\n",
    "for i in range(len(models)):\n",
    "    trace = go.Scatter(x=problem_size, y=performance[i], mode='lines+markers', name=models[i])\n",
    "    traces.append(trace)\n",
    "\n",
    "layout = go.Layout(title=\"Model Performance for Different Problem Sizes\",\n",
    "                   xaxis=dict(title=\"Problem Size\"),\n",
    "                   yaxis=dict(title=\"Performance\"))\n",
    "\n",
    "# Create figure\n",
    "fig = go.Figure(data=traces, layout=layout)\n",
    "\n",
    "# Show plot\n",
    "fig.show()"
   ]
  }
 ],
 "metadata": {
  "kernelspec": {
   "display_name": "Python 3 (ipykernel)",
   "language": "python",
   "name": "python3"
  },
  "language_info": {
   "codemirror_mode": {
    "name": "ipython",
    "version": 3
   },
   "file_extension": ".py",
   "mimetype": "text/x-python",
   "name": "python",
   "nbconvert_exporter": "python",
   "pygments_lexer": "ipython3",
   "version": "3.11.5"
  }
 },
 "nbformat": 4,
 "nbformat_minor": 4
}
